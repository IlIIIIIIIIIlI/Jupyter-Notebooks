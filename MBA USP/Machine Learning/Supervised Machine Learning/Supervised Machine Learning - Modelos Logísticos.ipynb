{
 "cells": [
  {
   "cell_type": "markdown",
   "id": "37755673-0030-47c9-aa3b-fc5b0b251fe2",
   "metadata": {},
   "source": [
    "# Supervised Machine Learning - Modelos Logísticos"
   ]
  }
 ],
 "metadata": {
  "kernelspec": {
   "display_name": "Python 3 (ipykernel)",
   "language": "python",
   "name": "python3"
  },
  "language_info": {
   "codemirror_mode": {
    "name": "ipython",
    "version": 3
   },
   "file_extension": ".py",
   "mimetype": "text/x-python",
   "name": "python",
   "nbconvert_exporter": "python",
   "pygments_lexer": "ipython3",
   "version": "3.12.3"
  }
 },
 "nbformat": 4,
 "nbformat_minor": 5
}
