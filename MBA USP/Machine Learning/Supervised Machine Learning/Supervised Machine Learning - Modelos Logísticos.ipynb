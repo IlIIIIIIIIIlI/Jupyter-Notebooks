{
 "cells": [
  {
   "cell_type": "markdown",
   "id": "37755673-0030-47c9-aa3b-fc5b0b251fe2",
   "metadata": {},
   "source": [
    "# Introdução ao Supervised Machine Learning - Modelos Logísticos\n",
    "\n",
    "Modelos logísticos, ou regressão logística, são usados para modelar a relação entre uma variável dependente binária (ou categórica) e uma ou mais variáveis independentes. Eles são amplamente aplicados quando o objetivo é prever probabilidades ou classificar dados em categorias, como em problemas de \"sim\" ou \"não\".\n",
    "\n",
    "## Características principais\n",
    "- **Variável dependente binária**: O resultado é geralmente 0 ou 1 (por exemplo, sucesso/falha).\n",
    "- **Função logística (sigmóide)**: Transforma uma combinação linear das variáveis independentes em uma probabilidade entre 0 e 1.\n",
    "- **Interpretação de coeficientes**: Os coeficientes podem ser interpretados em termos de odds ratios, que indicam o efeito de uma variável independente na probabilidade do resultado.\n",
    "\n",
    "## Aplicações\n",
    "- Classificação de clientes em uma campanha de marketing.\n",
    "- Diagnóstico médico (doença ou não).\n",
    "- Detecção de fraudes em transações financeiras. \n",
    "\n",
    "A fórmula geral do modelo logístico é:\n",
    "\n",
    "\\begin{equation}\n",
    "P(y) = \\dfrac{1}{1 + e^{-(\\alpha + \\beta_0 + \\beta_1x_1 + \\beta_2x_2 + \\cdots + \\beta_nx_n)}}\n",
    "\\end{equation}\n",
    "\n",
    "Aqui, $P(y)$ é a probabilidade do evento $y$ acontecer, e $\\beta$ são os coeficientes estimados para cada variável $x$. O expoente do número de euler pode ser representado por $Z$, também chamado de *Logito*:\n",
    "\n",
    "\\begin{equation}\n",
    "P(y) = \\dfrac{1}{1 + e^{-Z}}\n",
    "\\end{equation}\n",
    "\n",
    "**Importante:** se $P(y)$ é a probabilidade do evento $y$ acontecer, então $\\overline{P(y)} = 1 - P(y)$ é a probabilidade do evento não ocorrer:\n",
    "\n",
    "\\begin{equation}\n",
    "1-P(y) = 1 - \\dfrac{1}{1 + e^{-Z}} = \\dfrac{1}{1 + e^{Z}}\n",
    "\\end{equation}\n",
    "\n",
    "Na tabela abaixo seguem alguns modelos de regressão:\n",
    "\n",
    "\n",
    "\\begin{array}{|c|c|c|}\n",
    "\\hline\n",
    "\\textbf{Tipo de Modelo de Regressão} & \\textbf{Características da Variável Dependente} & \\textbf{Distribuição} \\\\\n",
    "\\hline\n",
    "\\text{Regressão Linear} & \\text{Quantitativa, contínua e não restrita} & \\text{Normal} \\\\\n",
    "\\hline\n",
    "\\text{Regressão Logística Binária} & \\text{Qualitativa, binária (0 ou 1)} & \\text{Bernoulli} \\\\\n",
    "\\hline\n",
    "\\text{Regressão Logística Multinomial} & \\text{Qualitativa, multicategórica} & \\text{Multinomial} \\\\\n",
    "\\hline\n",
    "\\text{Regressão Poisson} & \\text{Quantitativa, contagem (inteiros não negativos)} & \\text{Poisson} \\\\\n",
    "\\hline\n",
    "\\text{Regressão Log-Linear} & \\text{Quantitativa, contagem de eventos em categorias} & \\text{Poisson} \\\\\n",
    "\\hline\n",
    "\\text{Regressão Gamma} & \\text{Quantitativa, contínua, positiva e assimétrica} & \\text{Gamma} \\\\\n",
    "\\hline\n",
    "\\text{Regressão Binomial Negativa} & \\text{Quantitativa, contagem com sobredispersão} & \\text{Binomial Negativa} \\\\\n",
    "\\hline\n",
    "\\text{Regressão com Transformação de Box-Cox} & \\text{Quantitativa, contínua transformada} & \\text{Normal (após transformação)} \\\\\n",
    "\\hline\n",
    "\\end{array}"
   ]
  },
  {
   "cell_type": "markdown",
   "id": "94757953-327b-474d-a13a-48dd2d5cd696",
   "metadata": {},
   "source": [
    "A vantagem de utilizar o logito, é que como ele representa uma probabilidade, ela deve estar limitada entre os intervalos $0$ e $1$."
   ]
  },
  {
   "cell_type": "code",
   "execution_count": 31,
   "id": "c2c66b4f-ce08-4eb0-86ef-a22bf1a53fbb",
   "metadata": {},
   "outputs": [
    {
     "data": {
      "text/plain": [
       "Text(0.5, 0, 'z')"
      ]
     },
     "execution_count": 31,
     "metadata": {},
     "output_type": "execute_result"
    },
    {
     "data": {
      "image/png": "[encoded data removed]",
      "text/plain": [
       "<Figure size 640x480 with 1 Axes>"
      ]
     },
     "metadata": {},
     "output_type": "display_data"
    }
   ],
   "source": [
    "import numpy as np\n",
    "import matplotlib.pyplot as plt\n",
    "\n",
    "x = np.arange(-10, 10, 1)\n",
    "y = 1/(1 + np.exp(-x))\n",
    "\n",
    "plt.plot(x,y)\n",
    "plt.grid(True)\n",
    "plt.scatter(x,y, color='r')\n",
    "plt.title('Função 1/(1 + exp(-z))')\n",
    "plt.ylabel('f(z)')\n",
    "plt.xlabel('z')"
   ]
  },
  {
   "cell_type": "markdown",
   "id": "fbcc46bb-0171-4233-8cc1-a05c4ca3a1ca",
   "metadata": {},
   "source": [
    "## Logística Binária x Multinomial\n",
    "\n",
    "É um modelo de regressão onde a variável dependente é qualitativa, ou seja, é como se fosse uma variável *Dummy*. No caso da logística binária, haverão apenas duas categorias (*e.g.*, ter ou não ter crédito, ser aprovado ou não, sintomático ou assintomático). Caso a variável dependente tenha mais de uma categoria, então devemos utilizar a Regressão Logística Multinomial."
   ]
  },
  {
   "attachments": {},
   "cell_type": "markdown",
   "id": "b3329a04-e1f3-4f0c-ae44-b0f7f1deb2f6",
   "metadata": {},
   "source": [
    "# Regressão Logística Binária\n",
    "\n",
    "Técnica supervisionada de machine learning utilizada para explicar ou predizer a probabilidade de ocorrência de um determinado evento em função de uma ou mais variáveis explicativas.\n",
    "\n",
    "* Variável dependente: Binária\n",
    "* Variáveis preditoras $X_i$: Métricas ou não métricas\n",
    "\n",
    "Por padrão a variável dependente assume o valor $1$ caso o evento seja detectado, e $0$ caso não seja detectado."
   ]
  },
  {
   "cell_type": "markdown",
   "id": "8ca943d6-31c1-4aaa-b8b5-da13942c7ca3",
   "metadata": {},
   "source": [
    "## Conceitos de probabilidade"
   ]
  },
  {
   "cell_type": "markdown",
   "id": "d9f07533-35a7-4fd9-a9fb-28dc0615476c",
   "metadata": {},
   "source": [
    "- *Probabilidade*: Seja $p$ a probabilidade dum evento $A$ ocorrer, então $1-p$ é a probabilidade do evento não ocorrer $\\overline{A}$\n",
    "- *Chance (odds)*: É definida como $\\dfrac{p}{1-p}$\n",
    "\n",
    "**Exemplo**:\n",
    "\n",
    "Caso a probabilidade de um evento $X$ ocorrer seja de $60\\%$, então:\n",
    "\n",
    "$P(X) = 60\\% = \\dfrac{3}{5}$ \\\n",
    "$\\text{Odds} = \\dfrac{0,6}{1-0,6} = \\dfrac{0,6}{0,4} = 1,5$ "
   ]
  },
  {
   "cell_type": "code",
   "execution_count": null,
   "id": "5818d72d-6ae8-4352-ad87-8135816559e0",
   "metadata": {},
   "outputs": [],
   "source": []
  }
 ],
 "metadata": {
  "kernelspec": {
   "display_name": "Python 3 (ipykernel)",
   "language": "python",
   "name": "python3"
  },
  "language_info": {
   "codemirror_mode": {
    "name": "ipython",
    "version": 3
   },
   "file_extension": ".py",
   "mimetype": "text/x-python",
   "name": "python",
   "nbconvert_exporter": "python",
   "pygments_lexer": "ipython3",
   "version": "3.12.3"
  }
 },
 "nbformat": 4,
 "nbformat_minor": 5
}
