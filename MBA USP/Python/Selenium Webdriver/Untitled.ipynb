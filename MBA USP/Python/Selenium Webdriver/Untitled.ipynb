{
 "cells": [
  {
   "cell_type": "markdown",
   "id": "a8d5179a-2e90-4e02-a5e1-cd739746db8c",
   "metadata": {},
   "source": [
    "# Selenium"
   ]
  },
  {
   "cell_type": "markdown",
   "id": "fec15072-e328-48d3-ae80-31f4f74fcbfb",
   "metadata": {},
   "source": [
    "## Selenium Webdriver Functions"
   ]
  },
  {
   "cell_type": "code",
   "execution_count": 2,
   "id": "9e3a7655-25e5-4c9e-b143-09e3dab07f11",
   "metadata": {},
   "outputs": [],
   "source": [
    "\n",
    "from selenium import webdriver\n",
    "from selenium.webdriver.common.by import By\n",
    "from selenium.webdriver.support.ui import WebDriverWait\n",
    "from selenium.webdriver.support import expected_conditions as EC\n",
    "\n",
    "from time import sleep\n",
    "\n",
    "driver = webdriver.Chrome()\n",
    "\n",
    "def sendkeys(keys, css_selector, wait_time=10):\n",
    "    cnt = 1\n",
    "    while True:\n",
    "        try:\n",
    "            element = WebDriverWait(driver, wait_time).until(\n",
    "                EC.presence_of_element_located((By.CSS_SELECTOR, css_selector)))\n",
    "            element.send_keys(keys)\n",
    "            break\n",
    "        except:\n",
    "            if cnt > 3:\n",
    "                print('\\nNão foi possível interagir com o elemento %s' % css_selector)\n",
    "                raise Exception('sendkeys fail.')\n",
    "\n",
    "            else:\n",
    "                print('\\nNão foi possível enviar comandos (%d) para o elemento \\n'\n",
    "                      '%s. \\nTentando novamente...' % (cnt, css_selector))\n",
    "                cnt += 1\n",
    "                continue\n",
    "\n",
    "\n",
    "def click(css_selector, wait_time=10, try_cnt=3, aftertime: float = 0):\n",
    "    cnt = 1\n",
    "    while True:\n",
    "        try:\n",
    "            element = WebDriverWait(driver, wait_time).until(\n",
    "                EC.element_to_be_clickable((By.CSS_SELECTOR, css_selector)))\n",
    "            element.click()\n",
    "            break\n",
    "        except:\n",
    "            if cnt > try_cnt:\n",
    "                print('\\nNão foi possível interagir com o elemento %s' % css_selector)\n",
    "                raise Exception('click fail.')\n",
    "            else:\n",
    "                print('\\nNão foi possível enviar comandos (%d) para o elemento \\n'\n",
    "                      '%s. \\nTentando novamente...' % (cnt, css_selector))\n",
    "                cnt += 1\n",
    "                continue\n",
    "    sleep(aftertime)\n",
    "\n",
    "\n",
    "def clicktext(text_selector, wait_time=10):\n",
    "    cnt = 1\n",
    "    while True:\n",
    "        try:\n",
    "            element = WebDriverWait(driver, wait_time).until(\n",
    "                EC.element_to_be_clickable((By.LINK_TEXT, text_selector)))\n",
    "            element.click()\n",
    "            break\n",
    "        except:\n",
    "            if cnt > 3:\n",
    "                print('\\nNão foi possível interagir com o elemento %s' % text_selector)\n",
    "                raise Exception('click_text fail.')\n",
    "            else:\n",
    "                print('\\nNão foi possível enviar comandos (%d) para o elemento \\n'\n",
    "                      '%s. \\nTentando novamente...' % (cnt, text_selector))\n",
    "                cnt += 1\n",
    "                continue\n",
    "\n",
    "\n",
    "def wait4element(css_selector, wait_time=10):\n",
    "    try:\n",
    "        element = WebDriverWait(driver, wait_time).until(\n",
    "            EC.presence_of_element_located((By.CSS_SELECTOR, css_selector)))\n",
    "        sleep(0.25)\n",
    "        return element\n",
    "\n",
    "    except:\n",
    "        return []\n",
    "\n",
    "\n",
    "def wait4text(text_selector, wait_time=10):\n",
    "    try:\n",
    "        element = WebDriverWait(driver, wait_time).until(\n",
    "            EC.presence_of_element_located((By.LINK_TEXT, text_selector)))\n",
    "        sleep(0.25)\n",
    "        return element\n",
    "    except:\n",
    "        return []\n",
    "\n",
    "\n",
    "def wait4elements(css_selector, wait_time=10):\n",
    "    try:\n",
    "        if wait_time == 0:\n",
    "            element = driver.find_elements(By.CSS_SELECTOR, css_selector)\n",
    "            return element\n",
    "\n",
    "        element = WebDriverWait(driver, wait_time).until(\n",
    "            EC.presence_of_all_elements_located((By.CSS_SELECTOR, css_selector)))\n",
    "        sleep(0.25)\n",
    "        return element\n",
    "\n",
    "    except:\n",
    "        return []\n",
    "\n",
    "\n",
    "def wait4elements_text(css_selector, wait_time=10):\n",
    "    # retorna uma lista contendo os textos presentes em cada elemento da web\n",
    "    elements = wait4elements(css_selector, wait_time)\n",
    "\n",
    "    text_elements = []\n",
    "    if elements:\n",
    "        for element in elements:\n",
    "            text_elements.append(element.text)\n",
    "        return text_elements\n",
    "    else:\n",
    "        return []\n",
    "\n",
    "\n",
    "def wait4click(css_selector, wait_time=10):\n",
    "    try:\n",
    "        element = WebDriverWait(driver, wait_time).until(\n",
    "            EC.element_to_be_clickable((By.CSS_SELECTOR, css_selector)))\n",
    "        sleep(0.25)\n",
    "        return element\n",
    "\n",
    "    except:\n",
    "        return []\n",
    "\n",
    "\n",
    "def wait4element2disappear(css_selector: str, wait_time=3, timeout: int = 0):\n",
    "    t0 = time()\n",
    "    while wait4element(css_selector, wait_time):\n",
    "        tf = time()\n",
    "        if timeout:\n",
    "            if tf - t0 > timeout:\n",
    "                raise Exception('Timeout reached')\n",
    "        pass\n",
    "\n",
    "driver = webdriver.Chrome()\n",
    "\n",
    "#--------------------------------------\n",
    "\n",
    "\n"
   ]
  },
  {
   "cell_type": "markdown",
   "id": "3c822c92-b096-4b4a-b8cb-df15c5bdb08a",
   "metadata": {},
   "source": [
    "## Switching windows"
   ]
  },
  {
   "cell_type": "code",
   "execution_count": 51,
   "id": "acf695a7-edb4-4508-a295-3d889a65eb0e",
   "metadata": {},
   "outputs": [
    {
     "data": {
      "text/plain": [
       "['24082FB647D239723187E6F85048217A',\n",
       " '01D0D178E3E06210880F2DFD706A31B0',\n",
       " '72A763ABA375618BE5D589495C23999E',\n",
       " '49FB8ED210ACB2B9FDB12C1E927F2347']"
      ]
     },
     "execution_count": 51,
     "metadata": {},
     "output_type": "execute_result"
    }
   ],
   "source": [
    "wh = driver.window_handles # coleta quais são as janelas ativas e as devolve numa lista\n",
    "wh"
   ]
  },
  {
   "cell_type": "code",
   "execution_count": 55,
   "id": "be3e5081-cd86-4a8f-a394-b3422bebc3dc",
   "metadata": {},
   "outputs": [],
   "source": [
    "driver.switch_to.window(wh[2])"
   ]
  },
  {
   "cell_type": "markdown",
   "id": "b96627bf-e1bd-4a48-95aa-6e34018daa30",
   "metadata": {},
   "source": [
    "## Collecting a table from an HTML"
   ]
  },
  {
   "cell_type": "code",
   "execution_count": 57,
   "id": "77306a4a-d97e-4162-9002-68d26af12cc4",
   "metadata": {},
   "outputs": [
    {
     "name": "stderr",
     "output_type": "stream",
     "text": [
      "C:\\Users\\Lucas Rezende\\AppData\\Local\\Temp\\ipykernel_9504\\867986884.py:13: FutureWarning: Passing literal html to 'read_html' is deprecated and will be removed in a future version. To read from a literal string, wrap it in a 'StringIO' object.\n",
      "  df = pd.read_html(str(soup))[0] # passa a tabela para o pandas em uma lista de data framas\n"
     ]
    },
    {
     "data": {
      "text/html": [
       "<div>\n",
       "<style scoped>\n",
       "    .dataframe tbody tr th:only-of-type {\n",
       "        vertical-align: middle;\n",
       "    }\n",
       "\n",
       "    .dataframe tbody tr th {\n",
       "        vertical-align: top;\n",
       "    }\n",
       "\n",
       "    .dataframe thead th {\n",
       "        text-align: right;\n",
       "    }\n",
       "</style>\n",
       "<table border=\"1\" class=\"dataframe\">\n",
       "  <thead>\n",
       "    <tr style=\"text-align: right;\">\n",
       "      <th></th>\n",
       "      <th>Matrícula</th>\n",
       "      <th>Estudante</th>\n",
       "      <th>Email</th>\n",
       "      <th>Turma(s)</th>\n",
       "      <th>Atividade(s)</th>\n",
       "      <th>Unidades iniciadas</th>\n",
       "      <th>Unidades em andamento</th>\n",
       "      <th>Unidades concluídas</th>\n",
       "      <th>Horas estimadas</th>\n",
       "    </tr>\n",
       "  </thead>\n",
       "  <tbody>\n",
       "  </tbody>\n",
       "</table>\n",
       "</div>"
      ],
      "text/plain": [
       "Empty DataFrame\n",
       "Columns: [Matrícula, Estudante, Email, Turma(s), Atividade(s), Unidades iniciadas, Unidades em andamento, Unidades concluídas, Horas estimadas]\n",
       "Index: []"
      ]
     },
     "execution_count": 57,
     "metadata": {},
     "output_type": "execute_result"
    }
   ],
   "source": [
    "import pandas as pd\n",
    "from bs4 import BeautifulSoup as bs\n",
    "\n",
    "# Primeiro, localize uma tabela no HTML\n",
    "\n",
    "table_element = wait4elements('.dataTables_scroll')[0] # primeiro coletamos o elemento que contém a tabela\n",
    "\n",
    "table_html = table_element.get_attribute('outerHTML') # depois coletamos o html\n",
    "\n",
    "soup = bs(table_html, 'html.parser') # formata a tabela\n",
    "\n",
    "\n",
    "df = pd.read_html(str(soup))[0] # passa a tabela para o pandas em uma lista de data framas\n",
    "\n",
    "df.to_clipboard(index=False, header=False) # podemos usar a tabela como ctrl + v agora\n",
    "\n",
    "df[0:]"
   ]
  }
 ],
 "metadata": {
  "kernelspec": {
   "display_name": "Python 3 (ipykernel)",
   "language": "python",
   "name": "python3"
  },
  "language_info": {
   "codemirror_mode": {
    "name": "ipython",
    "version": 3
   },
   "file_extension": ".py",
   "mimetype": "text/x-python",
   "name": "python",
   "nbconvert_exporter": "python",
   "pygments_lexer": "ipython3",
   "version": "3.12.3"
  }
 },
 "nbformat": 4,
 "nbformat_minor": 5
}
